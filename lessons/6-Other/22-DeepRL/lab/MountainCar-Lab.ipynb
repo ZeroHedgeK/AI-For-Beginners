{
 "cells": [
  {
   "cell_type": "markdown",
   "metadata": {},
   "source": [
    "# Mountain Car Lab: Starter Code\\n",
    "\\n",
    "In this lab, you will train a reinforcement learning agent to solve the Mountain Car problem. The goal is to drive an underpowered car up a steep hill to reach a flag at the top.\\n",
    "\\n",
    "## 1. Setup and Imports"
   ]
  },
  {
   "cell_type": "code",
   "execution_count": null,
   "metadata": {},
   "outputs": [],
   "source": [
    "import gym\\n",
    "import numpy as np\\n",
    "import torch\\n",
    "import torch.nn as nn\\n",
    "import torch.optim as optim\\n",
    "import torch.nn.functional as F\\n",
    "from torch.distributions import Categorical"
   ]
  },
  {
   "cell_type": "markdown",
   "metadata": {},
   "source": [
    "## 2. The Policy Network\\n",
    "\\n",
    "We will use a simple fully-connected network as our policy network. The network will take the car's state (position and velocity) as input and output a probability distribution over the three possible actions (accelerate left, do nothing, accelerate right)."
   ]
  },
  {
   "cell_type": "code",
   "execution_count": null,
   "metadata": {},
   "outputs": [],
   "source": [
    "class Policy(nn.Module):\\n",
    "    def __init__(self):\\n",
    "        super(Policy, self).__init__()\\n",
    "        self.fc1 = nn.Linear(2, 128)\\n",
    "        self.fc2 = nn.Linear(128, 3)\\n",
    "\\n",
    "    def forward(self, x):\\n",
    "        x = F.relu(self.fc1(x))\\n",
    "        return F.softmax(self.fc2(x), dim=1)"
   ]
  },
  {
   "cell_type": "markdown",
   "metadata": {},
   "source": [
    "## 3. The Policy Gradient Agent\\n",
    "\\n",
    "The `PolicyGradientAgent` class will encapsulate the policy network and the training loop."
   ]
  },
  {
   "cell_type": "code",
   "execution_count": null,
   "metadata": {},
   "outputs": [],
   "source": [
    "class PolicyGradientAgent:\\n",
    "    def __init__(self, env, learning_rate=1e-2, gamma=0.99):\\n",
    "        self.env = env\\n",
    "        self.policy = Policy()\\n",
    "        self.optimizer = optim.Adam(self.policy.parameters(), lr=learning_rate)\\n",
    "        self.gamma = gamma\\n",
    "\\n",
    "    def select_action(self, state):\\n",
    "        state = torch.from_numpy(state).float().unsqueeze(0)\\n",
    "        probs = self.policy(state)\\n",
    "        m = Categorical(probs)\\n",
    "        action = m.sample()\\n",
    "        return action.item(), m.log_prob(action)\\n",
    "\\n",
    "    def update_policy(self, rewards, log_probs):\\n",
    "        # Your code here: Implement the policy gradient update\\n",
    "        # 1. Calculate the discounted rewards\\n",
    "        # 2. Calculate the policy loss\\n",
    "        # 3. Update the policy network\\n",
    "        pass"
   ]
  },
  {
   "cell_type": "markdown",
   "metadata": {},
   "source": [
    "## 4. Training\\n",
    "\\n",
    "Now we can create the environment and the agent and start the training process. Your task is to complete the `update_policy` method in the `PolicyGradientAgent` class and then run the training loop."
   ]
  },
  {
   "cell_type": "code",
   "execution_count": null,
   "metadata": {},
   "outputs": [],
   "source": [
    "def train(agent, num_episodes=1000):\\n",
    "    for episode in range(num_episodes):\\n",
    "        state, _ = agent.env.reset()\\n",
    "        log_probs = []\\n",
    "        rewards = []\\n",
    "        for t in range(10000):\\n",
    "            action, log_prob = agent.select_action(state)\\n",
    "            log_probs.append(log_prob)\\n",
    "            state, reward, done, _, _ = agent.env.step(action)\\n",
    "            rewards.append(reward)\\n",
    "            if done:\\n",
    "                break\\n",
    "        agent.update_policy(rewards, log_probs)\\n",
    "        if episode % 100 == 0:\\n",
    "            print(f\\"Episode {episode}, Last Reward: {sum(rewards)}\\")\\n",
    "\\n",
    "if __name__ == '__main__':\\n",
    "    env = gym.make('MountainCar-v0')\\n",
    "    agent = PolicyGradientAgent(env)\\n",
    "    train(agent)"
   ]
  }
 ],
 "metadata": {
  "kernelspec": {
   "display_name": "Python 3",
   "language": "python",
   "name": "python3"
  },
  "language_info": {
   "codemirror_mode": {
    "name": "ipython",
    "version": 3
   },
   "file_extension": ".py",
   "mimetype": "text/x-python",
   "name": "python",
   "nbconvert_exporter": "python",
   "pygments_lexer": "ipython3",
   "version": "3.9.12"
  }
 },
 "nbformat": 4,
 "nbformat_minor": 4
}
